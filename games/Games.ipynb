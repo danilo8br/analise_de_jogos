{
 "cells": [
  {
   "cell_type": "markdown",
   "metadata": {},
   "source": [
    "### Importando bibliotecas"
   ]
  },
  {
   "cell_type": "code",
   "execution_count": 64,
   "metadata": {},
   "outputs": [],
   "source": [
    "import pandas as pd\n",
    "import matplotlib.pyplot as plt\n",
    "%matplotlib inline"
   ]
  },
  {
   "cell_type": "markdown",
   "metadata": {},
   "source": [
    "### Carregando o arquivo com a base de dados\n"
   ]
  },
  {
   "cell_type": "code",
   "execution_count": 65,
   "metadata": {},
   "outputs": [],
   "source": [
    "dados = pd.read_csv('Video_Games_Sales_as_at_22_Dec_2016.csv')"
   ]
  },
  {
   "cell_type": "markdown",
   "metadata": {},
   "source": [
    "### Limpeza e preparação dos dados"
   ]
  },
  {
   "cell_type": "markdown",
   "metadata": {},
   "source": [
    "- Todas colunas do Dataset"
   ]
  },
  {
   "cell_type": "code",
   "execution_count": 66,
   "metadata": {},
   "outputs": [
    {
     "name": "stdout",
     "output_type": "stream",
     "text": [
      "Index(['Name', 'Platform', 'Year_of_Release', 'Genre', 'Publisher', 'NA_Sales',\n",
      "       'EU_Sales', 'JP_Sales', 'Other_Sales', 'Global_Sales', 'Critic_Score',\n",
      "       'Critic_Count', 'User_Score', 'User_Count', 'Developer', 'Rating'],\n",
      "      dtype='object')\n"
     ]
    }
   ],
   "source": [
    "print(dados.columns)"
   ]
  },
  {
   "cell_type": "markdown",
   "metadata": {},
   "source": [
    "- Todas as linhas e colunas do Dataset"
   ]
  },
  {
   "cell_type": "code",
   "execution_count": 67,
   "metadata": {},
   "outputs": [
    {
     "name": "stdout",
     "output_type": "stream",
     "text": [
      "<class 'pandas.core.frame.DataFrame'>\n",
      "RangeIndex: 16719 entries, 0 to 16718\n",
      "Data columns (total 16 columns):\n",
      " #   Column           Non-Null Count  Dtype  \n",
      "---  ------           --------------  -----  \n",
      " 0   Name             16717 non-null  object \n",
      " 1   Platform         16719 non-null  object \n",
      " 2   Year_of_Release  16450 non-null  float64\n",
      " 3   Genre            16717 non-null  object \n",
      " 4   Publisher        16665 non-null  object \n",
      " 5   NA_Sales         16719 non-null  float64\n",
      " 6   EU_Sales         16719 non-null  float64\n",
      " 7   JP_Sales         16719 non-null  float64\n",
      " 8   Other_Sales      16719 non-null  float64\n",
      " 9   Global_Sales     16719 non-null  float64\n",
      " 10  Critic_Score     8137 non-null   float64\n",
      " 11  Critic_Count     8137 non-null   float64\n",
      " 12  User_Score       7590 non-null   float64\n",
      " 13  User_Count       7590 non-null   float64\n",
      " 14  Developer        10096 non-null  object \n",
      " 15  Rating           9950 non-null   object \n",
      "dtypes: float64(10), object(6)\n",
      "memory usage: 2.0+ MB\n"
     ]
    }
   ],
   "source": [
    "dados.info()"
   ]
  },
  {
   "cell_type": "markdown",
   "metadata": {},
   "source": [
    "- Renomeando todas as colunas"
   ]
  },
  {
   "cell_type": "code",
   "execution_count": 68,
   "metadata": {},
   "outputs": [],
   "source": [
    "dados.rename(columns={'Name':'Nome', 'Platform':'Plataforma', 'Year_of_Release':'Ano_de_lançamento', 'genre':'Genero',\n",
    "                     'Publisher':'Editora', 'NA_Sales':'NA_Vendas', 'EU_Sales':'EU_Vendas',\n",
    "                  'JP_Sales':'JP_Vendas', 'Other_Sales':'Outras_Vendas', 'Global_Sales':'Vendas_Globais',\n",
    "                  'Critic_Score':'Pontuação_Critica', 'Critic_Count':'Contagem_Critica',\n",
    "                  'User_Score':'Usuario_Pontuação', 'User_Count':'Usuario_Contagem',\n",
    "                  'Developer':'Desenvolvedor', 'Rating':'Avaliação'}, inplace=True)"
   ]
  },
  {
   "cell_type": "markdown",
   "metadata": {},
   "source": [
    "- Caso houver algum valor nulo nestas 20 linhas vai retorna True"
   ]
  },
  {
   "cell_type": "code",
   "execution_count": 69,
   "metadata": {},
   "outputs": [
    {
     "data": {
      "text/html": [
       "<div>\n",
       "<style scoped>\n",
       "    .dataframe tbody tr th:only-of-type {\n",
       "        vertical-align: middle;\n",
       "    }\n",
       "\n",
       "    .dataframe tbody tr th {\n",
       "        vertical-align: top;\n",
       "    }\n",
       "\n",
       "    .dataframe thead th {\n",
       "        text-align: right;\n",
       "    }\n",
       "</style>\n",
       "<table border=\"1\" class=\"dataframe\">\n",
       "  <thead>\n",
       "    <tr style=\"text-align: right;\">\n",
       "      <th></th>\n",
       "      <th>Nome</th>\n",
       "      <th>Plataforma</th>\n",
       "      <th>Ano_de_lançamento</th>\n",
       "      <th>Genre</th>\n",
       "      <th>Editora</th>\n",
       "      <th>NA_Vendas</th>\n",
       "      <th>EU_Vendas</th>\n",
       "      <th>JP_Vendas</th>\n",
       "      <th>Outras_Vendas</th>\n",
       "      <th>Vendas_Globais</th>\n",
       "      <th>Pontuação_Critica</th>\n",
       "      <th>Contagem_Critica</th>\n",
       "      <th>Usuario_Pontuação</th>\n",
       "      <th>Usuario_Contagem</th>\n",
       "      <th>Desenvolvedor</th>\n",
       "      <th>Avaliação</th>\n",
       "    </tr>\n",
       "  </thead>\n",
       "  <tbody>\n",
       "    <tr>\n",
       "      <th>0</th>\n",
       "      <td>False</td>\n",
       "      <td>False</td>\n",
       "      <td>False</td>\n",
       "      <td>False</td>\n",
       "      <td>False</td>\n",
       "      <td>False</td>\n",
       "      <td>False</td>\n",
       "      <td>False</td>\n",
       "      <td>False</td>\n",
       "      <td>False</td>\n",
       "      <td>False</td>\n",
       "      <td>False</td>\n",
       "      <td>False</td>\n",
       "      <td>False</td>\n",
       "      <td>False</td>\n",
       "      <td>False</td>\n",
       "    </tr>\n",
       "    <tr>\n",
       "      <th>1</th>\n",
       "      <td>False</td>\n",
       "      <td>False</td>\n",
       "      <td>False</td>\n",
       "      <td>False</td>\n",
       "      <td>False</td>\n",
       "      <td>False</td>\n",
       "      <td>False</td>\n",
       "      <td>False</td>\n",
       "      <td>False</td>\n",
       "      <td>False</td>\n",
       "      <td>True</td>\n",
       "      <td>True</td>\n",
       "      <td>True</td>\n",
       "      <td>True</td>\n",
       "      <td>True</td>\n",
       "      <td>True</td>\n",
       "    </tr>\n",
       "    <tr>\n",
       "      <th>2</th>\n",
       "      <td>False</td>\n",
       "      <td>False</td>\n",
       "      <td>False</td>\n",
       "      <td>False</td>\n",
       "      <td>False</td>\n",
       "      <td>False</td>\n",
       "      <td>False</td>\n",
       "      <td>False</td>\n",
       "      <td>False</td>\n",
       "      <td>False</td>\n",
       "      <td>False</td>\n",
       "      <td>False</td>\n",
       "      <td>False</td>\n",
       "      <td>False</td>\n",
       "      <td>False</td>\n",
       "      <td>False</td>\n",
       "    </tr>\n",
       "    <tr>\n",
       "      <th>3</th>\n",
       "      <td>False</td>\n",
       "      <td>False</td>\n",
       "      <td>False</td>\n",
       "      <td>False</td>\n",
       "      <td>False</td>\n",
       "      <td>False</td>\n",
       "      <td>False</td>\n",
       "      <td>False</td>\n",
       "      <td>False</td>\n",
       "      <td>False</td>\n",
       "      <td>False</td>\n",
       "      <td>False</td>\n",
       "      <td>False</td>\n",
       "      <td>False</td>\n",
       "      <td>False</td>\n",
       "      <td>False</td>\n",
       "    </tr>\n",
       "    <tr>\n",
       "      <th>4</th>\n",
       "      <td>False</td>\n",
       "      <td>False</td>\n",
       "      <td>False</td>\n",
       "      <td>False</td>\n",
       "      <td>False</td>\n",
       "      <td>False</td>\n",
       "      <td>False</td>\n",
       "      <td>False</td>\n",
       "      <td>False</td>\n",
       "      <td>False</td>\n",
       "      <td>True</td>\n",
       "      <td>True</td>\n",
       "      <td>True</td>\n",
       "      <td>True</td>\n",
       "      <td>True</td>\n",
       "      <td>True</td>\n",
       "    </tr>\n",
       "    <tr>\n",
       "      <th>5</th>\n",
       "      <td>False</td>\n",
       "      <td>False</td>\n",
       "      <td>False</td>\n",
       "      <td>False</td>\n",
       "      <td>False</td>\n",
       "      <td>False</td>\n",
       "      <td>False</td>\n",
       "      <td>False</td>\n",
       "      <td>False</td>\n",
       "      <td>False</td>\n",
       "      <td>True</td>\n",
       "      <td>True</td>\n",
       "      <td>True</td>\n",
       "      <td>True</td>\n",
       "      <td>True</td>\n",
       "      <td>True</td>\n",
       "    </tr>\n",
       "    <tr>\n",
       "      <th>6</th>\n",
       "      <td>False</td>\n",
       "      <td>False</td>\n",
       "      <td>False</td>\n",
       "      <td>False</td>\n",
       "      <td>False</td>\n",
       "      <td>False</td>\n",
       "      <td>False</td>\n",
       "      <td>False</td>\n",
       "      <td>False</td>\n",
       "      <td>False</td>\n",
       "      <td>False</td>\n",
       "      <td>False</td>\n",
       "      <td>False</td>\n",
       "      <td>False</td>\n",
       "      <td>False</td>\n",
       "      <td>False</td>\n",
       "    </tr>\n",
       "    <tr>\n",
       "      <th>7</th>\n",
       "      <td>False</td>\n",
       "      <td>False</td>\n",
       "      <td>False</td>\n",
       "      <td>False</td>\n",
       "      <td>False</td>\n",
       "      <td>False</td>\n",
       "      <td>False</td>\n",
       "      <td>False</td>\n",
       "      <td>False</td>\n",
       "      <td>False</td>\n",
       "      <td>False</td>\n",
       "      <td>False</td>\n",
       "      <td>False</td>\n",
       "      <td>False</td>\n",
       "      <td>False</td>\n",
       "      <td>False</td>\n",
       "    </tr>\n",
       "    <tr>\n",
       "      <th>8</th>\n",
       "      <td>False</td>\n",
       "      <td>False</td>\n",
       "      <td>False</td>\n",
       "      <td>False</td>\n",
       "      <td>False</td>\n",
       "      <td>False</td>\n",
       "      <td>False</td>\n",
       "      <td>False</td>\n",
       "      <td>False</td>\n",
       "      <td>False</td>\n",
       "      <td>False</td>\n",
       "      <td>False</td>\n",
       "      <td>False</td>\n",
       "      <td>False</td>\n",
       "      <td>False</td>\n",
       "      <td>False</td>\n",
       "    </tr>\n",
       "    <tr>\n",
       "      <th>9</th>\n",
       "      <td>False</td>\n",
       "      <td>False</td>\n",
       "      <td>False</td>\n",
       "      <td>False</td>\n",
       "      <td>False</td>\n",
       "      <td>False</td>\n",
       "      <td>False</td>\n",
       "      <td>False</td>\n",
       "      <td>False</td>\n",
       "      <td>False</td>\n",
       "      <td>True</td>\n",
       "      <td>True</td>\n",
       "      <td>True</td>\n",
       "      <td>True</td>\n",
       "      <td>True</td>\n",
       "      <td>True</td>\n",
       "    </tr>\n",
       "    <tr>\n",
       "      <th>10</th>\n",
       "      <td>False</td>\n",
       "      <td>False</td>\n",
       "      <td>False</td>\n",
       "      <td>False</td>\n",
       "      <td>False</td>\n",
       "      <td>False</td>\n",
       "      <td>False</td>\n",
       "      <td>False</td>\n",
       "      <td>False</td>\n",
       "      <td>False</td>\n",
       "      <td>True</td>\n",
       "      <td>True</td>\n",
       "      <td>True</td>\n",
       "      <td>True</td>\n",
       "      <td>True</td>\n",
       "      <td>True</td>\n",
       "    </tr>\n",
       "    <tr>\n",
       "      <th>11</th>\n",
       "      <td>False</td>\n",
       "      <td>False</td>\n",
       "      <td>False</td>\n",
       "      <td>False</td>\n",
       "      <td>False</td>\n",
       "      <td>False</td>\n",
       "      <td>False</td>\n",
       "      <td>False</td>\n",
       "      <td>False</td>\n",
       "      <td>False</td>\n",
       "      <td>False</td>\n",
       "      <td>False</td>\n",
       "      <td>False</td>\n",
       "      <td>False</td>\n",
       "      <td>False</td>\n",
       "      <td>False</td>\n",
       "    </tr>\n",
       "    <tr>\n",
       "      <th>12</th>\n",
       "      <td>False</td>\n",
       "      <td>False</td>\n",
       "      <td>False</td>\n",
       "      <td>False</td>\n",
       "      <td>False</td>\n",
       "      <td>False</td>\n",
       "      <td>False</td>\n",
       "      <td>False</td>\n",
       "      <td>False</td>\n",
       "      <td>False</td>\n",
       "      <td>True</td>\n",
       "      <td>True</td>\n",
       "      <td>True</td>\n",
       "      <td>True</td>\n",
       "      <td>True</td>\n",
       "      <td>True</td>\n",
       "    </tr>\n",
       "    <tr>\n",
       "      <th>13</th>\n",
       "      <td>False</td>\n",
       "      <td>False</td>\n",
       "      <td>False</td>\n",
       "      <td>False</td>\n",
       "      <td>False</td>\n",
       "      <td>False</td>\n",
       "      <td>False</td>\n",
       "      <td>False</td>\n",
       "      <td>False</td>\n",
       "      <td>False</td>\n",
       "      <td>False</td>\n",
       "      <td>False</td>\n",
       "      <td>False</td>\n",
       "      <td>False</td>\n",
       "      <td>False</td>\n",
       "      <td>False</td>\n",
       "    </tr>\n",
       "    <tr>\n",
       "      <th>14</th>\n",
       "      <td>False</td>\n",
       "      <td>False</td>\n",
       "      <td>False</td>\n",
       "      <td>False</td>\n",
       "      <td>False</td>\n",
       "      <td>False</td>\n",
       "      <td>False</td>\n",
       "      <td>False</td>\n",
       "      <td>False</td>\n",
       "      <td>False</td>\n",
       "      <td>False</td>\n",
       "      <td>False</td>\n",
       "      <td>False</td>\n",
       "      <td>False</td>\n",
       "      <td>False</td>\n",
       "      <td>False</td>\n",
       "    </tr>\n",
       "    <tr>\n",
       "      <th>15</th>\n",
       "      <td>False</td>\n",
       "      <td>False</td>\n",
       "      <td>False</td>\n",
       "      <td>False</td>\n",
       "      <td>False</td>\n",
       "      <td>False</td>\n",
       "      <td>False</td>\n",
       "      <td>False</td>\n",
       "      <td>False</td>\n",
       "      <td>False</td>\n",
       "      <td>False</td>\n",
       "      <td>False</td>\n",
       "      <td>False</td>\n",
       "      <td>False</td>\n",
       "      <td>False</td>\n",
       "      <td>False</td>\n",
       "    </tr>\n",
       "    <tr>\n",
       "      <th>16</th>\n",
       "      <td>False</td>\n",
       "      <td>False</td>\n",
       "      <td>False</td>\n",
       "      <td>False</td>\n",
       "      <td>False</td>\n",
       "      <td>False</td>\n",
       "      <td>False</td>\n",
       "      <td>False</td>\n",
       "      <td>False</td>\n",
       "      <td>False</td>\n",
       "      <td>False</td>\n",
       "      <td>False</td>\n",
       "      <td>False</td>\n",
       "      <td>False</td>\n",
       "      <td>False</td>\n",
       "      <td>False</td>\n",
       "    </tr>\n",
       "    <tr>\n",
       "      <th>17</th>\n",
       "      <td>False</td>\n",
       "      <td>False</td>\n",
       "      <td>False</td>\n",
       "      <td>False</td>\n",
       "      <td>False</td>\n",
       "      <td>False</td>\n",
       "      <td>False</td>\n",
       "      <td>False</td>\n",
       "      <td>False</td>\n",
       "      <td>False</td>\n",
       "      <td>False</td>\n",
       "      <td>False</td>\n",
       "      <td>False</td>\n",
       "      <td>False</td>\n",
       "      <td>False</td>\n",
       "      <td>False</td>\n",
       "    </tr>\n",
       "    <tr>\n",
       "      <th>18</th>\n",
       "      <td>False</td>\n",
       "      <td>False</td>\n",
       "      <td>False</td>\n",
       "      <td>False</td>\n",
       "      <td>False</td>\n",
       "      <td>False</td>\n",
       "      <td>False</td>\n",
       "      <td>False</td>\n",
       "      <td>False</td>\n",
       "      <td>False</td>\n",
       "      <td>True</td>\n",
       "      <td>True</td>\n",
       "      <td>True</td>\n",
       "      <td>True</td>\n",
       "      <td>True</td>\n",
       "      <td>True</td>\n",
       "    </tr>\n",
       "    <tr>\n",
       "      <th>19</th>\n",
       "      <td>False</td>\n",
       "      <td>False</td>\n",
       "      <td>False</td>\n",
       "      <td>False</td>\n",
       "      <td>False</td>\n",
       "      <td>False</td>\n",
       "      <td>False</td>\n",
       "      <td>False</td>\n",
       "      <td>False</td>\n",
       "      <td>False</td>\n",
       "      <td>False</td>\n",
       "      <td>False</td>\n",
       "      <td>False</td>\n",
       "      <td>False</td>\n",
       "      <td>False</td>\n",
       "      <td>False</td>\n",
       "    </tr>\n",
       "    <tr>\n",
       "      <th>20</th>\n",
       "      <td>False</td>\n",
       "      <td>False</td>\n",
       "      <td>False</td>\n",
       "      <td>False</td>\n",
       "      <td>False</td>\n",
       "      <td>False</td>\n",
       "      <td>False</td>\n",
       "      <td>False</td>\n",
       "      <td>False</td>\n",
       "      <td>False</td>\n",
       "      <td>True</td>\n",
       "      <td>True</td>\n",
       "      <td>True</td>\n",
       "      <td>True</td>\n",
       "      <td>True</td>\n",
       "      <td>True</td>\n",
       "    </tr>\n",
       "  </tbody>\n",
       "</table>\n",
       "</div>"
      ],
      "text/plain": [
       "     Nome  Plataforma  Ano_de_lançamento  Genre  Editora  NA_Vendas  \\\n",
       "0   False       False              False  False    False      False   \n",
       "1   False       False              False  False    False      False   \n",
       "2   False       False              False  False    False      False   \n",
       "3   False       False              False  False    False      False   \n",
       "4   False       False              False  False    False      False   \n",
       "5   False       False              False  False    False      False   \n",
       "6   False       False              False  False    False      False   \n",
       "7   False       False              False  False    False      False   \n",
       "8   False       False              False  False    False      False   \n",
       "9   False       False              False  False    False      False   \n",
       "10  False       False              False  False    False      False   \n",
       "11  False       False              False  False    False      False   \n",
       "12  False       False              False  False    False      False   \n",
       "13  False       False              False  False    False      False   \n",
       "14  False       False              False  False    False      False   \n",
       "15  False       False              False  False    False      False   \n",
       "16  False       False              False  False    False      False   \n",
       "17  False       False              False  False    False      False   \n",
       "18  False       False              False  False    False      False   \n",
       "19  False       False              False  False    False      False   \n",
       "20  False       False              False  False    False      False   \n",
       "\n",
       "    EU_Vendas  JP_Vendas  Outras_Vendas  Vendas_Globais  Pontuação_Critica  \\\n",
       "0       False      False          False           False              False   \n",
       "1       False      False          False           False               True   \n",
       "2       False      False          False           False              False   \n",
       "3       False      False          False           False              False   \n",
       "4       False      False          False           False               True   \n",
       "5       False      False          False           False               True   \n",
       "6       False      False          False           False              False   \n",
       "7       False      False          False           False              False   \n",
       "8       False      False          False           False              False   \n",
       "9       False      False          False           False               True   \n",
       "10      False      False          False           False               True   \n",
       "11      False      False          False           False              False   \n",
       "12      False      False          False           False               True   \n",
       "13      False      False          False           False              False   \n",
       "14      False      False          False           False              False   \n",
       "15      False      False          False           False              False   \n",
       "16      False      False          False           False              False   \n",
       "17      False      False          False           False              False   \n",
       "18      False      False          False           False               True   \n",
       "19      False      False          False           False              False   \n",
       "20      False      False          False           False               True   \n",
       "\n",
       "    Contagem_Critica  Usuario_Pontuação  Usuario_Contagem  Desenvolvedor  \\\n",
       "0              False              False             False          False   \n",
       "1               True               True              True           True   \n",
       "2              False              False             False          False   \n",
       "3              False              False             False          False   \n",
       "4               True               True              True           True   \n",
       "5               True               True              True           True   \n",
       "6              False              False             False          False   \n",
       "7              False              False             False          False   \n",
       "8              False              False             False          False   \n",
       "9               True               True              True           True   \n",
       "10              True               True              True           True   \n",
       "11             False              False             False          False   \n",
       "12              True               True              True           True   \n",
       "13             False              False             False          False   \n",
       "14             False              False             False          False   \n",
       "15             False              False             False          False   \n",
       "16             False              False             False          False   \n",
       "17             False              False             False          False   \n",
       "18              True               True              True           True   \n",
       "19             False              False             False          False   \n",
       "20              True               True              True           True   \n",
       "\n",
       "    Avaliação  \n",
       "0       False  \n",
       "1        True  \n",
       "2       False  \n",
       "3       False  \n",
       "4        True  \n",
       "5        True  \n",
       "6       False  \n",
       "7       False  \n",
       "8       False  \n",
       "9        True  \n",
       "10       True  \n",
       "11      False  \n",
       "12       True  \n",
       "13      False  \n",
       "14      False  \n",
       "15      False  \n",
       "16      False  \n",
       "17      False  \n",
       "18       True  \n",
       "19      False  \n",
       "20       True  "
      ]
     },
     "execution_count": 69,
     "metadata": {},
     "output_type": "execute_result"
    }
   ],
   "source": [
    "dados.isnull().head(21)"
   ]
  },
  {
   "cell_type": "markdown",
   "metadata": {},
   "source": [
    "- O total de valores nulos por colunas"
   ]
  },
  {
   "cell_type": "code",
   "execution_count": 70,
   "metadata": {},
   "outputs": [
    {
     "data": {
      "text/plain": [
       "Nome                    2\n",
       "Plataforma              0\n",
       "Ano_de_lançamento     269\n",
       "Genre                   2\n",
       "Editora                54\n",
       "NA_Vendas               0\n",
       "EU_Vendas               0\n",
       "JP_Vendas               0\n",
       "Outras_Vendas           0\n",
       "Vendas_Globais          0\n",
       "Pontuação_Critica    8582\n",
       "Contagem_Critica     8582\n",
       "Usuario_Pontuação    9129\n",
       "Usuario_Contagem     9129\n",
       "Desenvolvedor        6623\n",
       "Avaliação            6769\n",
       "dtype: int64"
      ]
     },
     "execution_count": 70,
     "metadata": {},
     "output_type": "execute_result"
    }
   ],
   "source": [
    "dados.isnull().sum()"
   ]
  },
  {
   "cell_type": "markdown",
   "metadata": {},
   "source": [
    "- Descartando linhas com valores nulos"
   ]
  },
  {
   "cell_type": "code",
   "execution_count": 71,
   "metadata": {},
   "outputs": [],
   "source": [
    "dados.dropna(inplace=True)"
   ]
  },
  {
   "cell_type": "markdown",
   "metadata": {},
   "source": [
    "- Preenchendo os valores nulos com a média"
   ]
  },
  {
   "cell_type": "code",
   "execution_count": 72,
   "metadata": {},
   "outputs": [],
   "source": [
    "dados.fillna(dados.mean(0), inplace=True)"
   ]
  },
  {
   "cell_type": "markdown",
   "metadata": {},
   "source": [
    "- Agora não tem mais nenhum valor nulo no Dataset"
   ]
  },
  {
   "cell_type": "code",
   "execution_count": 73,
   "metadata": {},
   "outputs": [
    {
     "data": {
      "text/plain": [
       "Nome                 0\n",
       "Plataforma           0\n",
       "Ano_de_lançamento    0\n",
       "Genre                0\n",
       "Editora              0\n",
       "NA_Vendas            0\n",
       "EU_Vendas            0\n",
       "JP_Vendas            0\n",
       "Outras_Vendas        0\n",
       "Vendas_Globais       0\n",
       "Pontuação_Critica    0\n",
       "Contagem_Critica     0\n",
       "Usuario_Pontuação    0\n",
       "Usuario_Contagem     0\n",
       "Desenvolvedor        0\n",
       "Avaliação            0\n",
       "dtype: int64"
      ]
     },
     "execution_count": 73,
     "metadata": {},
     "output_type": "execute_result"
    }
   ],
   "source": [
    "dados.isnull().sum()"
   ]
  },
  {
   "cell_type": "markdown",
   "metadata": {},
   "source": [
    "### Exploração dos dados"
   ]
  },
  {
   "cell_type": "markdown",
   "metadata": {},
   "source": [
    "- As 5 primeiras linhas do Dataset"
   ]
  },
  {
   "cell_type": "code",
   "execution_count": 74,
   "metadata": {},
   "outputs": [
    {
     "data": {
      "text/html": [
       "<div>\n",
       "<style scoped>\n",
       "    .dataframe tbody tr th:only-of-type {\n",
       "        vertical-align: middle;\n",
       "    }\n",
       "\n",
       "    .dataframe tbody tr th {\n",
       "        vertical-align: top;\n",
       "    }\n",
       "\n",
       "    .dataframe thead th {\n",
       "        text-align: right;\n",
       "    }\n",
       "</style>\n",
       "<table border=\"1\" class=\"dataframe\">\n",
       "  <thead>\n",
       "    <tr style=\"text-align: right;\">\n",
       "      <th></th>\n",
       "      <th>Nome</th>\n",
       "      <th>Plataforma</th>\n",
       "      <th>Ano_de_lançamento</th>\n",
       "      <th>Genre</th>\n",
       "      <th>Editora</th>\n",
       "      <th>NA_Vendas</th>\n",
       "      <th>EU_Vendas</th>\n",
       "      <th>JP_Vendas</th>\n",
       "      <th>Outras_Vendas</th>\n",
       "      <th>Vendas_Globais</th>\n",
       "      <th>Pontuação_Critica</th>\n",
       "      <th>Contagem_Critica</th>\n",
       "      <th>Usuario_Pontuação</th>\n",
       "      <th>Usuario_Contagem</th>\n",
       "      <th>Desenvolvedor</th>\n",
       "      <th>Avaliação</th>\n",
       "    </tr>\n",
       "  </thead>\n",
       "  <tbody>\n",
       "    <tr>\n",
       "      <th>0</th>\n",
       "      <td>Wii Sports</td>\n",
       "      <td>Wii</td>\n",
       "      <td>2006.0</td>\n",
       "      <td>Sports</td>\n",
       "      <td>Nintendo</td>\n",
       "      <td>41.36</td>\n",
       "      <td>28.96</td>\n",
       "      <td>3.77</td>\n",
       "      <td>8.45</td>\n",
       "      <td>82.53</td>\n",
       "      <td>76.0</td>\n",
       "      <td>51.0</td>\n",
       "      <td>8.0</td>\n",
       "      <td>322.0</td>\n",
       "      <td>Nintendo</td>\n",
       "      <td>E</td>\n",
       "    </tr>\n",
       "    <tr>\n",
       "      <th>2</th>\n",
       "      <td>Mario Kart Wii</td>\n",
       "      <td>Wii</td>\n",
       "      <td>2008.0</td>\n",
       "      <td>Racing</td>\n",
       "      <td>Nintendo</td>\n",
       "      <td>15.68</td>\n",
       "      <td>12.76</td>\n",
       "      <td>3.79</td>\n",
       "      <td>3.29</td>\n",
       "      <td>35.52</td>\n",
       "      <td>82.0</td>\n",
       "      <td>73.0</td>\n",
       "      <td>8.3</td>\n",
       "      <td>709.0</td>\n",
       "      <td>Nintendo</td>\n",
       "      <td>E</td>\n",
       "    </tr>\n",
       "    <tr>\n",
       "      <th>3</th>\n",
       "      <td>Wii Sports Resort</td>\n",
       "      <td>Wii</td>\n",
       "      <td>2009.0</td>\n",
       "      <td>Sports</td>\n",
       "      <td>Nintendo</td>\n",
       "      <td>15.61</td>\n",
       "      <td>10.93</td>\n",
       "      <td>3.28</td>\n",
       "      <td>2.95</td>\n",
       "      <td>32.77</td>\n",
       "      <td>80.0</td>\n",
       "      <td>73.0</td>\n",
       "      <td>8.0</td>\n",
       "      <td>192.0</td>\n",
       "      <td>Nintendo</td>\n",
       "      <td>E</td>\n",
       "    </tr>\n",
       "    <tr>\n",
       "      <th>6</th>\n",
       "      <td>New Super Mario Bros.</td>\n",
       "      <td>DS</td>\n",
       "      <td>2006.0</td>\n",
       "      <td>Platform</td>\n",
       "      <td>Nintendo</td>\n",
       "      <td>11.28</td>\n",
       "      <td>9.14</td>\n",
       "      <td>6.50</td>\n",
       "      <td>2.88</td>\n",
       "      <td>29.80</td>\n",
       "      <td>89.0</td>\n",
       "      <td>65.0</td>\n",
       "      <td>8.5</td>\n",
       "      <td>431.0</td>\n",
       "      <td>Nintendo</td>\n",
       "      <td>E</td>\n",
       "    </tr>\n",
       "    <tr>\n",
       "      <th>7</th>\n",
       "      <td>Wii Play</td>\n",
       "      <td>Wii</td>\n",
       "      <td>2006.0</td>\n",
       "      <td>Misc</td>\n",
       "      <td>Nintendo</td>\n",
       "      <td>13.96</td>\n",
       "      <td>9.18</td>\n",
       "      <td>2.93</td>\n",
       "      <td>2.84</td>\n",
       "      <td>28.92</td>\n",
       "      <td>58.0</td>\n",
       "      <td>41.0</td>\n",
       "      <td>6.6</td>\n",
       "      <td>129.0</td>\n",
       "      <td>Nintendo</td>\n",
       "      <td>E</td>\n",
       "    </tr>\n",
       "  </tbody>\n",
       "</table>\n",
       "</div>"
      ],
      "text/plain": [
       "                    Nome Plataforma  Ano_de_lançamento     Genre   Editora  \\\n",
       "0             Wii Sports        Wii             2006.0    Sports  Nintendo   \n",
       "2         Mario Kart Wii        Wii             2008.0    Racing  Nintendo   \n",
       "3      Wii Sports Resort        Wii             2009.0    Sports  Nintendo   \n",
       "6  New Super Mario Bros.         DS             2006.0  Platform  Nintendo   \n",
       "7               Wii Play        Wii             2006.0      Misc  Nintendo   \n",
       "\n",
       "   NA_Vendas  EU_Vendas  JP_Vendas  Outras_Vendas  Vendas_Globais  \\\n",
       "0      41.36      28.96       3.77           8.45           82.53   \n",
       "2      15.68      12.76       3.79           3.29           35.52   \n",
       "3      15.61      10.93       3.28           2.95           32.77   \n",
       "6      11.28       9.14       6.50           2.88           29.80   \n",
       "7      13.96       9.18       2.93           2.84           28.92   \n",
       "\n",
       "   Pontuação_Critica  Contagem_Critica  Usuario_Pontuação  Usuario_Contagem  \\\n",
       "0               76.0              51.0                8.0             322.0   \n",
       "2               82.0              73.0                8.3             709.0   \n",
       "3               80.0              73.0                8.0             192.0   \n",
       "6               89.0              65.0                8.5             431.0   \n",
       "7               58.0              41.0                6.6             129.0   \n",
       "\n",
       "  Desenvolvedor Avaliação  \n",
       "0      Nintendo         E  \n",
       "2      Nintendo         E  \n",
       "3      Nintendo         E  \n",
       "6      Nintendo         E  \n",
       "7      Nintendo         E  "
      ]
     },
     "execution_count": 74,
     "metadata": {},
     "output_type": "execute_result"
    }
   ],
   "source": [
    "dados.head(5)"
   ]
  },
  {
   "cell_type": "markdown",
   "metadata": {},
   "source": [
    "#### Começando explorando as plataformas, jogos e gêneros"
   ]
  },
  {
   "cell_type": "markdown",
   "metadata": {},
   "source": [
    "- O total video-games por plataforma"
   ]
  },
  {
   "cell_type": "code",
   "execution_count": 75,
   "metadata": {},
   "outputs": [
    {
     "data": {
      "text/plain": [
       "PS2     1140\n",
       "X360     858\n",
       "PS3      769\n",
       "PC       651\n",
       "XB       565\n",
       "Wii      479\n",
       "DS       464\n",
       "PSP      390\n",
       "GC       348\n",
       "PS4      239\n",
       "GBA      237\n",
       "XOne     159\n",
       "3DS      155\n",
       "PS       150\n",
       "PSV      118\n",
       "WiiU      89\n",
       "DC        14\n",
       "Name: Plataforma, dtype: int64"
      ]
     },
     "execution_count": 75,
     "metadata": {},
     "output_type": "execute_result"
    }
   ],
   "source": [
    "dados['Plataforma'].value_counts()"
   ]
  },
  {
   "cell_type": "markdown",
   "metadata": {},
   "source": [
    "- O total de todos generos dos jogos"
   ]
  },
  {
   "cell_type": "code",
   "execution_count": 76,
   "metadata": {},
   "outputs": [
    {
     "data": {
      "text/plain": [
       "Action          1630\n",
       "Sports           943\n",
       "Shooter          864\n",
       "Role-Playing     712\n",
       "Racing           581\n",
       "Platform         403\n",
       "Misc             384\n",
       "Fighting         378\n",
       "Simulation       297\n",
       "Strategy         267\n",
       "Adventure        248\n",
       "Puzzle           118\n",
       "Name: Genre, dtype: int64"
      ]
     },
     "execution_count": 76,
     "metadata": {},
     "output_type": "execute_result"
    }
   ],
   "source": [
    "dados['Genre'].value_counts()"
   ]
  },
  {
   "cell_type": "markdown",
   "metadata": {},
   "source": [
    "- Armazenando todos os tipos de jogos de cada video-game"
   ]
  },
  {
   "cell_type": "code",
   "execution_count": 77,
   "metadata": {},
   "outputs": [],
   "source": [
    "PS2 = dados[dados['Plataforma'] == 'PS2']['Genre'].count()\n",
    "X360 = dados[dados['Plataforma'] == 'X360']['Genre'].count()\n",
    "PS3 = dados[dados['Plataforma'] == 'PS3']['Genre'].count()\n",
    "PC = dados[dados['Plataforma'] == 'PC']['Genre'].count()\n",
    "XB = dados[dados['Plataforma'] == 'XB']['Genre'].count()\n",
    "WII = dados[dados['Plataforma'] == 'Wii']['Genre'].count()\n",
    "DS = dados[dados['Plataforma'] == 'DS']['Genre'].count()\n",
    "PSP = dados[dados['Plataforma'] == 'PSP']['Genre'].count()\n",
    "GC = dados[dados['Plataforma'] == 'GC']['Genre'].count()\n",
    "PS4 = dados[dados['Plataforma'] == 'PS4']['Genre'].count()\n",
    "GBA = dados[dados['Plataforma'] == 'GBA']['Genre'].count()\n",
    "XONE = dados[dados['Plataforma'] == 'XOne']['Genre'].count()\n",
    "DS3 = dados[dados['Plataforma'] == '3DS']['Genre'].count()\n",
    "PS = dados[dados['Plataforma'] == 'PS']['Genre'].count()\n",
    "PSV = dados[dados['Plataforma'] == 'PSV']['Genre'].count()\n",
    "WIIU = dados[dados['Plataforma'] == 'WiiU']['Genre'].count()\n",
    "DC = dados[dados['Plataforma'] == 'DC']['Genre'].count()\n"
   ]
  },
  {
   "cell_type": "markdown",
   "metadata": {},
   "source": [
    "- Armazendo em duas variaveis os todos os dados acima e o nomes"
   ]
  },
  {
   "cell_type": "code",
   "execution_count": 78,
   "metadata": {},
   "outputs": [],
   "source": [
    "tot = [PS2, X360, PS3, PC, XB, WII, DS, PSP, GC, PS4, GBA, XONE, DS3, PS, PSV, WIIU, DC]\n",
    "nomes = ['PS2', 'X360', 'PS3', 'PC', 'XB', 'WII', 'DS', 'PSP', 'GC', 'PS4', 'GBA', 'XONE', 'DS3',\n",
    "        'PS', 'PSV', 'WIIU', 'DC']"
   ]
  },
  {
   "cell_type": "markdown",
   "metadata": {},
   "source": [
    "- Gráfico de barras monstrando os dados armazenados"
   ]
  },
  {
   "cell_type": "code",
   "execution_count": 98,
   "metadata": {},
   "outputs": [
    {
     "data": {
      "image/png": "[encoded data removed]",
      "text/plain": [
       "<Figure size 1080x720 with 1 Axes>"
      ]
     },
     "metadata": {},
     "output_type": "display_data"
    }
   ],
   "source": [
    "plt.style.use('seaborn-dark')\n",
    "plt.title('Total de jogos por plataformas', color='Blue')\n",
    "\n",
    "plt.rcParams['figure.figsize'] = (8,10)\n",
    "\n",
    "plt.xlabel('Jogos')\n",
    "plt.ylabel('Index')\n",
    "\n",
    "plt.bar(nomes, tot)\n",
    "plt.show()"
   ]
  },
  {
   "cell_type": "markdown",
   "metadata": {},
   "source": [
    "#### O total de jogos de video-game que foram lançado por ano"
   ]
  },
  {
   "cell_type": "markdown",
   "metadata": {},
   "source": [
    "- PS2"
   ]
  },
  {
   "cell_type": "code",
   "execution_count": 81,
   "metadata": {},
   "outputs": [
    {
     "data": {
      "text/plain": [
       "2010.0      1\n",
       "2009.0     12\n",
       "2008.0     34\n",
       "2000.0     40\n",
       "2007.0     61\n",
       "2006.0    117\n",
       "2001.0    132\n",
       "2003.0    180\n",
       "2002.0    181\n",
       "2005.0    181\n",
       "2004.0    201\n",
       "Name: Ano_de_lançamento, dtype: int64"
      ]
     },
     "execution_count": 81,
     "metadata": {},
     "output_type": "execute_result"
    }
   ],
   "source": [
    "dados[dados['Plataforma'] == 'PS2']['Ano_de_lançamento'].value_counts(ascending=True)"
   ]
  },
  {
   "cell_type": "markdown",
   "metadata": {},
   "source": [
    "- XBOX 360"
   ]
  },
  {
   "cell_type": "code",
   "execution_count": 82,
   "metadata": {},
   "outputs": [
    {
     "data": {
      "text/plain": [
       "2005.0     16\n",
       "2014.0     26\n",
       "2013.0     54\n",
       "2006.0     76\n",
       "2012.0     90\n",
       "2007.0    105\n",
       "2011.0    120\n",
       "2008.0    120\n",
       "2010.0    125\n",
       "2009.0    126\n",
       "Name: Ano_de_lançamento, dtype: int64"
      ]
     },
     "execution_count": 82,
     "metadata": {},
     "output_type": "execute_result"
    }
   ],
   "source": [
    "dados[dados['Plataforma'] == 'X360']['Ano_de_lançamento'].value_counts(ascending=True)"
   ]
  },
  {
   "cell_type": "markdown",
   "metadata": {},
   "source": [
    "- PS3"
   ]
  },
  {
   "cell_type": "code",
   "execution_count": 83,
   "metadata": {},
   "outputs": [
    {
     "data": {
      "text/plain": [
       "2015.0      1\n",
       "2006.0     19\n",
       "2014.0     35\n",
       "2007.0     76\n",
       "2013.0     82\n",
       "2012.0     93\n",
       "2008.0    109\n",
       "2009.0    112\n",
       "2010.0    115\n",
       "2011.0    127\n",
       "Name: Ano_de_lançamento, dtype: int64"
      ]
     },
     "execution_count": 83,
     "metadata": {},
     "output_type": "execute_result"
    }
   ],
   "source": [
    "dados[dados['Plataforma'] == 'PS3']['Ano_de_lançamento'].value_counts(ascending=True)"
   ]
  },
  {
   "cell_type": "markdown",
   "metadata": {},
   "source": [
    "- PC"
   ]
  },
  {
   "cell_type": "code",
   "execution_count": 84,
   "metadata": {},
   "outputs": [
    {
     "data": {
      "text/plain": [
       "1992.0     1\n",
       "1988.0     1\n",
       "1997.0     1\n",
       "1985.0     1\n",
       "1999.0     2\n",
       "1996.0     2\n",
       "1998.0     3\n",
       "2000.0     4\n",
       "2001.0    11\n",
       "2002.0    17\n",
       "2004.0    23\n",
       "2005.0    27\n",
       "2003.0    27\n",
       "2013.0    30\n",
       "2015.0    31\n",
       "2014.0    35\n",
       "2016.0    37\n",
       "2006.0    38\n",
       "2012.0    41\n",
       "2007.0    51\n",
       "2008.0    53\n",
       "2010.0    59\n",
       "2009.0    73\n",
       "2011.0    83\n",
       "Name: Ano_de_lançamento, dtype: int64"
      ]
     },
     "execution_count": 84,
     "metadata": {},
     "output_type": "execute_result"
    }
   ],
   "source": [
    "dados[dados['Plataforma'] == 'PC']['Ano_de_lançamento'].value_counts(ascending=True)"
   ]
  },
  {
   "cell_type": "markdown",
   "metadata": {},
   "source": [
    "- XBOX"
   ]
  },
  {
   "cell_type": "code",
   "execution_count": 85,
   "metadata": {},
   "outputs": [
    {
     "data": {
      "text/plain": [
       "2000.0      1\n",
       "2007.0      3\n",
       "2001.0     26\n",
       "2006.0     39\n",
       "2002.0    104\n",
       "2004.0    128\n",
       "2003.0    131\n",
       "2005.0    133\n",
       "Name: Ano_de_lançamento, dtype: int64"
      ]
     },
     "execution_count": 85,
     "metadata": {},
     "output_type": "execute_result"
    }
   ],
   "source": [
    "dados[dados['Plataforma'] == 'XB']['Ano_de_lançamento'].value_counts(ascending=True)"
   ]
  },
  {
   "cell_type": "markdown",
   "metadata": {},
   "source": [
    "- WII"
   ]
  },
  {
   "cell_type": "code",
   "execution_count": 86,
   "metadata": {},
   "outputs": [
    {
     "data": {
      "text/plain": [
       "2012.0      5\n",
       "2006.0     33\n",
       "2011.0     36\n",
       "2010.0     56\n",
       "2009.0    110\n",
       "2007.0    113\n",
       "2008.0    126\n",
       "Name: Ano_de_lançamento, dtype: int64"
      ]
     },
     "execution_count": 86,
     "metadata": {},
     "output_type": "execute_result"
    }
   ],
   "source": [
    "dados[dados['Plataforma'] == 'Wii']['Ano_de_lançamento'].value_counts(ascending=True)"
   ]
  },
  {
   "cell_type": "markdown",
   "metadata": {},
   "source": [
    "- NINTENDO DS"
   ]
  },
  {
   "cell_type": "code",
   "execution_count": 87,
   "metadata": {},
   "outputs": [
    {
     "data": {
      "text/plain": [
       "2012.0      1\n",
       "2011.0      9\n",
       "2004.0     11\n",
       "2010.0     35\n",
       "2005.0     57\n",
       "2009.0     68\n",
       "2006.0     71\n",
       "2007.0    104\n",
       "2008.0    108\n",
       "Name: Ano_de_lançamento, dtype: int64"
      ]
     },
     "execution_count": 87,
     "metadata": {},
     "output_type": "execute_result"
    }
   ],
   "source": [
    "dados[dados['Plataforma'] == 'DS']['Ano_de_lançamento'].value_counts(ascending=True)"
   ]
  },
  {
   "cell_type": "markdown",
   "metadata": {},
   "source": [
    "- PSP"
   ]
  },
  {
   "cell_type": "code",
   "execution_count": 88,
   "metadata": {},
   "outputs": [
    {
     "data": {
      "text/plain": [
       "2013.0      1\n",
       "2004.0      6\n",
       "2011.0     11\n",
       "2010.0     38\n",
       "2008.0     42\n",
       "2009.0     49\n",
       "2005.0     68\n",
       "2007.0     75\n",
       "2006.0    100\n",
       "Name: Ano_de_lançamento, dtype: int64"
      ]
     },
     "execution_count": 88,
     "metadata": {},
     "output_type": "execute_result"
    }
   ],
   "source": [
    "dados[dados['Plataforma'] == 'PSP']['Ano_de_lançamento'].value_counts(ascending=True)"
   ]
  },
  {
   "cell_type": "markdown",
   "metadata": {},
   "source": [
    "- GAME CUBE"
   ]
  },
  {
   "cell_type": "code",
   "execution_count": 89,
   "metadata": {},
   "outputs": [
    {
     "data": {
      "text/plain": [
       "2007.0     2\n",
       "2001.0    20\n",
       "2006.0    24\n",
       "2004.0    53\n",
       "2005.0    57\n",
       "2003.0    95\n",
       "2002.0    97\n",
       "Name: Ano_de_lançamento, dtype: int64"
      ]
     },
     "execution_count": 89,
     "metadata": {},
     "output_type": "execute_result"
    }
   ],
   "source": [
    "dados[dados['Plataforma'] == 'GC']['Ano_de_lançamento'].value_counts(ascending=True)"
   ]
  },
  {
   "cell_type": "markdown",
   "metadata": {},
   "source": [
    "- PS4"
   ]
  },
  {
   "cell_type": "code",
   "execution_count": 90,
   "metadata": {},
   "outputs": [
    {
     "data": {
      "text/plain": [
       "2013.0    15\n",
       "2014.0    51\n",
       "2015.0    81\n",
       "2016.0    92\n",
       "Name: Ano_de_lançamento, dtype: int64"
      ]
     },
     "execution_count": 90,
     "metadata": {},
     "output_type": "execute_result"
    }
   ],
   "source": [
    "dados[dados['Plataforma'] == 'PS4']['Ano_de_lançamento'].value_counts(ascending=True)"
   ]
  },
  {
   "cell_type": "markdown",
   "metadata": {},
   "source": [
    "- GAME BOY ADVANCED"
   ]
  },
  {
   "cell_type": "code",
   "execution_count": 91,
   "metadata": {},
   "outputs": [
    {
     "data": {
      "text/plain": [
       "2006.0    11\n",
       "2005.0    23\n",
       "2001.0    29\n",
       "2004.0    54\n",
       "2002.0    55\n",
       "2003.0    65\n",
       "Name: Ano_de_lançamento, dtype: int64"
      ]
     },
     "execution_count": 91,
     "metadata": {},
     "output_type": "execute_result"
    }
   ],
   "source": [
    "dados[dados['Plataforma'] == 'GBA']['Ano_de_lançamento'].value_counts(ascending=True)"
   ]
  },
  {
   "cell_type": "markdown",
   "metadata": {},
   "source": [
    "- XBOX ONE"
   ]
  },
  {
   "cell_type": "code",
   "execution_count": 92,
   "metadata": {},
   "outputs": [
    {
     "data": {
      "text/plain": [
       "2013.0    14\n",
       "2014.0    43\n",
       "2015.0    47\n",
       "2016.0    55\n",
       "Name: Ano_de_lançamento, dtype: int64"
      ]
     },
     "execution_count": 92,
     "metadata": {},
     "output_type": "execute_result"
    }
   ],
   "source": [
    "dados[dados['Plataforma'] == 'XOne']['Ano_de_lançamento'].value_counts(ascending=True)"
   ]
  },
  {
   "cell_type": "markdown",
   "metadata": {},
   "source": [
    "- NINTENDO 3DS"
   ]
  },
  {
   "cell_type": "code",
   "execution_count": 93,
   "metadata": {},
   "outputs": [
    {
     "data": {
      "text/plain": [
       "2016.0    10\n",
       "2014.0    18\n",
       "2015.0    19\n",
       "2013.0    20\n",
       "2012.0    33\n",
       "2011.0    55\n",
       "Name: Ano_de_lançamento, dtype: int64"
      ]
     },
     "execution_count": 93,
     "metadata": {},
     "output_type": "execute_result"
    }
   ],
   "source": [
    "dados[dados['Plataforma'] == '3DS']['Ano_de_lançamento'].value_counts(ascending=True)"
   ]
  },
  {
   "cell_type": "markdown",
   "metadata": {},
   "source": [
    "- PLAYSTATION"
   ]
  },
  {
   "cell_type": "code",
   "execution_count": 94,
   "metadata": {},
   "outputs": [
    {
     "data": {
      "text/plain": [
       "2002.0     1\n",
       "1994.0     1\n",
       "1996.0     5\n",
       "1997.0    12\n",
       "1998.0    22\n",
       "1999.0    25\n",
       "2001.0    34\n",
       "2000.0    50\n",
       "Name: Ano_de_lançamento, dtype: int64"
      ]
     },
     "execution_count": 94,
     "metadata": {},
     "output_type": "execute_result"
    }
   ],
   "source": [
    "dados[dados['Plataforma'] == 'PS']['Ano_de_lançamento'].value_counts(ascending=True)"
   ]
  },
  {
   "cell_type": "markdown",
   "metadata": {},
   "source": [
    "- PS VITA"
   ]
  },
  {
   "cell_type": "code",
   "execution_count": 95,
   "metadata": {},
   "outputs": [
    {
     "data": {
      "text/plain": [
       "2016.0    10\n",
       "2011.0    12\n",
       "2015.0    13\n",
       "2013.0    23\n",
       "2012.0    30\n",
       "2014.0    30\n",
       "Name: Ano_de_lançamento, dtype: int64"
      ]
     },
     "execution_count": 95,
     "metadata": {},
     "output_type": "execute_result"
    }
   ],
   "source": [
    "dados[dados['Plataforma'] == 'PSV']['Ano_de_lançamento'].value_counts(ascending=True)"
   ]
  },
  {
   "cell_type": "markdown",
   "metadata": {},
   "source": [
    "- WIIU"
   ]
  },
  {
   "cell_type": "code",
   "execution_count": 60,
   "metadata": {},
   "outputs": [
    {
     "data": {
      "text/plain": [
       "2016.0     8\n",
       "2014.0    15\n",
       "2015.0    19\n",
       "2012.0    20\n",
       "2013.0    27\n",
       "Name: Ano_de_lançamento, dtype: int64"
      ]
     },
     "execution_count": 60,
     "metadata": {},
     "output_type": "execute_result"
    }
   ],
   "source": [
    "dados[dados['Plataforma'] == 'WiiU']['Ano_de_lançamento'].value_counts(ascending=True)"
   ]
  },
  {
   "cell_type": "markdown",
   "metadata": {},
   "source": [
    "- DC"
   ]
  },
  {
   "cell_type": "code",
   "execution_count": 61,
   "metadata": {},
   "outputs": [
    {
     "data": {
      "text/plain": [
       "1999.0    3\n",
       "2001.0    4\n",
       "2000.0    7\n",
       "Name: Ano_de_lançamento, dtype: int64"
      ]
     },
     "execution_count": 61,
     "metadata": {},
     "output_type": "execute_result"
    }
   ],
   "source": [
    "dados[dados['Plataforma'] == 'DC']['Ano_de_lançamento'].value_counts(ascending=True)"
   ]
  },
  {
   "cell_type": "markdown",
   "metadata": {},
   "source": [
    "#### Analisando as vendas do jogos"
   ]
  },
  {
   "cell_type": "markdown",
   "metadata": {},
   "source": [
    "- O total de vendas na américa do norte"
   ]
  },
  {
   "cell_type": "code",
   "execution_count": 109,
   "metadata": {},
   "outputs": [
    {
     "data": {
      "text/plain": [
       "2692.35"
      ]
     },
     "execution_count": 109,
     "metadata": {},
     "output_type": "execute_result"
    }
   ],
   "source": [
    "dados['NA_Vendas'].sum()"
   ]
  },
  {
   "cell_type": "markdown",
   "metadata": {},
   "source": [
    "- O total de vendas na Europa"
   ]
  },
  {
   "cell_type": "code",
   "execution_count": 110,
   "metadata": {},
   "outputs": [
    {
     "data": {
      "text/plain": [
       "1611.3100000000002"
      ]
     },
     "execution_count": 110,
     "metadata": {},
     "output_type": "execute_result"
    }
   ],
   "source": [
    "dados['EU_Vendas'].sum()"
   ]
  },
  {
   "cell_type": "markdown",
   "metadata": {},
   "source": [
    "- O total de vendas no japão"
   ]
  },
  {
   "cell_type": "code",
   "execution_count": 111,
   "metadata": {},
   "outputs": [
    {
     "data": {
      "text/plain": [
       "437.88"
      ]
     },
     "execution_count": 111,
     "metadata": {},
     "output_type": "execute_result"
    }
   ],
   "source": [
    "dados['JP_Vendas'].sum()"
   ]
  },
  {
   "cell_type": "markdown",
   "metadata": {},
   "source": [
    "- O total de vendas em outros lugarem"
   ]
  },
  {
   "cell_type": "code",
   "execution_count": 114,
   "metadata": {},
   "outputs": [
    {
     "data": {
      "text/plain": [
       "564.2700000000001"
      ]
     },
     "execution_count": 114,
     "metadata": {},
     "output_type": "execute_result"
    }
   ],
   "source": [
    "dados['Outras_Vendas'].sum()"
   ]
  },
  {
   "cell_type": "markdown",
   "metadata": {},
   "source": [
    "- O total de vendas globais"
   ]
  },
  {
   "cell_type": "code",
   "execution_count": 115,
   "metadata": {},
   "outputs": [
    {
     "data": {
      "text/plain": [
       "5307.05"
      ]
     },
     "execution_count": 115,
     "metadata": {},
     "output_type": "execute_result"
    }
   ],
   "source": [
    "dados['Vendas_Globais'].sum()"
   ]
  },
  {
   "cell_type": "markdown",
   "metadata": {},
   "source": [
    "#### As melhores pontuações e avaliações"
   ]
  },
  {
   "cell_type": "markdown",
   "metadata": {},
   "source": [
    "- Os 10 jogos mais bem avaliados ao longo dos anos"
   ]
  },
  {
   "cell_type": "code",
   "execution_count": 150,
   "metadata": {},
   "outputs": [
    {
     "data": {
      "text/plain": [
       "11                     Mario Kart DS\n",
       "16                Grand Theft Auto V\n",
       "17     Grand Theft Auto: San Andreas\n",
       "23                Grand Theft Auto V\n",
       "24       Grand Theft Auto: Vice City\n",
       "28            Gran Turismo 3: A-Spec\n",
       "36    Call of Duty: Modern Warfare 2\n",
       "38              Grand Theft Auto III\n",
       "39           Super Smash Bros. Brawl\n",
       "42                Grand Theft Auto V\n",
       "Name: Nome, dtype: object"
      ]
     },
     "execution_count": 150,
     "metadata": {},
     "output_type": "execute_result"
    }
   ],
   "source": [
    "dados[(dados['Pontuação_Critica'] >= 90)]['Nome'].iloc[0:10]"
   ]
  },
  {
   "cell_type": "markdown",
   "metadata": {},
   "source": [
    "- Os 10 jogos mais mal avaliados ao longo dos anos"
   ]
  },
  {
   "cell_type": "code",
   "execution_count": 149,
   "metadata": {},
   "outputs": [
    {
     "data": {
      "text/plain": [
       "622                                   Game Party\n",
       "916                                 Game Party 2\n",
       "1050                             Deal or No Deal\n",
       "1562    Jillian Michaels' Fitness Ultimatum 2009\n",
       "5313                               Chicken Shoot\n",
       "5539                         DECA Sports Freedom\n",
       "5747                                KISS Pinball\n",
       "5825                   Shrek Swamp Kart Speedway\n",
       "6039                           Shrek Super Party\n",
       "6634    The Powerpuff Girls: Chemical X-Traction\n",
       "Name: Nome, dtype: object"
      ]
     },
     "execution_count": 149,
     "metadata": {},
     "output_type": "execute_result"
    }
   ],
   "source": [
    "dados[(dados['Pontuação_Critica'] <= 30)]['Nome'].iloc[0:10]"
   ]
  },
  {
   "cell_type": "markdown",
   "metadata": {},
   "source": [
    "- As melhores pontuações dos usuários nos jogos"
   ]
  },
  {
   "cell_type": "code",
   "execution_count": 146,
   "metadata": {},
   "outputs": [
    {
     "data": {
      "text/plain": [
       "17              Grand Theft Auto: San Andreas\n",
       "65                          Final Fantasy VII\n",
       "67                             Gran Turismo 2\n",
       "97                       Super Mario Galaxy 2\n",
       "106                                  Tekken 3\n",
       "107    The Legend of Zelda: Twilight Princess\n",
       "110                              Mario Kart 8\n",
       "111                   Super Smash Bros. Melee\n",
       "131                   Pokémon Emerald Version\n",
       "135                       Red Dead Redemption\n",
       "Name: Nome, dtype: object"
      ]
     },
     "execution_count": 146,
     "metadata": {},
     "output_type": "execute_result"
    }
   ],
   "source": [
    "dados[(dados['Usuario_Pontuação'] >= 9.0)]['Nome'].iloc[0:10]"
   ]
  },
  {
   "cell_type": "markdown",
   "metadata": {},
   "source": [
    "- As piores pontuações do usuários"
   ]
  },
  {
   "cell_type": "code",
   "execution_count": 147,
   "metadata": {},
   "outputs": [
    {
     "data": {
      "text/plain": [
       "29     Call of Duty: Modern Warfare 3\n",
       "35         Call of Duty: Black Ops II\n",
       "37     Call of Duty: Modern Warfare 3\n",
       "60               Call of Duty: Ghosts\n",
       "69               Call of Duty: Ghosts\n",
       "77                            FIFA 16\n",
       "94                            FIFA 17\n",
       "126                           FIFA 14\n",
       "192                        Diablo III\n",
       "245    Call of Duty: Infinite Warfare\n",
       "Name: Nome, dtype: object"
      ]
     },
     "execution_count": 147,
     "metadata": {},
     "output_type": "execute_result"
    }
   ],
   "source": [
    "dados[(dados['Usuario_Pontuação'] <= 5.0)]['Nome'].iloc[0:10]"
   ]
  },
  {
   "cell_type": "markdown",
   "metadata": {},
   "source": [
    "- A média da pontuação critica"
   ]
  },
  {
   "cell_type": "code",
   "execution_count": 158,
   "metadata": {},
   "outputs": [
    {
     "data": {
      "text/plain": [
       "70.27208791208791"
      ]
     },
     "execution_count": 158,
     "metadata": {},
     "output_type": "execute_result"
    }
   ],
   "source": [
    "dados['Pontuação_Critica'].mean()"
   ]
  },
  {
   "cell_type": "markdown",
   "metadata": {},
   "source": [
    "- A mediana da pontuação critica"
   ]
  },
  {
   "cell_type": "code",
   "execution_count": 159,
   "metadata": {},
   "outputs": [
    {
     "data": {
      "text/plain": [
       "70.27208791208791"
      ]
     },
     "execution_count": 159,
     "metadata": {},
     "output_type": "execute_result"
    }
   ],
   "source": [
    "dados['Pontuação_Critica'].mean()"
   ]
  }
 ],
 "metadata": {
  "kernelspec": {
   "display_name": "Python 3",
   "language": "python",
   "name": "python3"
  },
  "language_info": {
   "codemirror_mode": {
    "name": "ipython",
    "version": 3
   },
   "file_extension": ".py",
   "mimetype": "text/x-python",
   "name": "python",
   "nbconvert_exporter": "python",
   "pygments_lexer": "ipython3",
   "version": "3.7.4"
  }
 },
 "nbformat": 4,
 "nbformat_minor": 4
}
